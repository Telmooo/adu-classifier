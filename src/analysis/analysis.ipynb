{
 "cells": [
  {
   "cell_type": "code",
   "execution_count": 2,
   "metadata": {},
   "outputs": [],
   "source": [
    "import os\n",
    "import sys; sys.path.append(\"../\")\n",
    "\n",
    "import pandas as pd\n",
    "import numpy as np\n",
    "import seaborn as sns\n",
    "import matplotlib.pyplot as plt\n",
    "\n",
    "from yellowbrick.text import freqdist\n",
    "\n",
    "from utils.io import (\n",
    "    read_excel,\n",
    "    write_csv,\n",
    "    save_figure\n",
    ")\n",
    "from utils.plot import get_wordcloud\n",
    "#from tpu.tpu import TPU\n",
    "\n",
    "from IPython.display import display\n",
    "\n",
    "\n",
    "\n",
    "# Set plot style\n",
    "plt.style.use('seaborn')\n",
    "\n",
    "# Set maximum columns to be displayed by Pandas\n",
    "pd.set_option('display.max_columns', 500)\n",
    "\n",
    "DATA_DIR = \"../../data\"\n",
    "OUT_DIR = \"../out\"\n",
    "GENERATE_CHARTS = False"
   ]
  },
  {
   "cell_type": "code",
   "execution_count": 45,
   "metadata": {},
   "outputs": [
    {
     "data": {
      "text/html": [
       "<div>\n",
       "<style scoped>\n",
       "    .dataframe tbody tr th:only-of-type {\n",
       "        vertical-align: middle;\n",
       "    }\n",
       "\n",
       "    .dataframe tbody tr th {\n",
       "        vertical-align: top;\n",
       "    }\n",
       "\n",
       "    .dataframe thead th {\n",
       "        text-align: right;\n",
       "    }\n",
       "</style>\n",
       "<table border=\"1\" class=\"dataframe\">\n",
       "  <thead>\n",
       "    <tr style=\"text-align: right;\">\n",
       "      <th></th>\n",
       "      <th>Text</th>\n",
       "      <th>Lemma</th>\n",
       "      <th>POS</th>\n",
       "      <th>Tag</th>\n",
       "      <th>Dep</th>\n",
       "      <th>Shape</th>\n",
       "      <th>MORPH</th>\n",
       "      <th>Sentiment</th>\n",
       "      <th>Entity Type</th>\n",
       "    </tr>\n",
       "  </thead>\n",
       "  <tbody>\n",
       "    <tr>\n",
       "      <th>0</th>\n",
       "      <td>Sim</td>\n",
       "      <td>Sim</td>\n",
       "      <td>ADV</td>\n",
       "      <td>ADV</td>\n",
       "      <td>advmod</td>\n",
       "      <td>Xxx</td>\n",
       "      <td>()</td>\n",
       "      <td>0.0</td>\n",
       "      <td></td>\n",
       "    </tr>\n",
       "    <tr>\n",
       "      <th>1</th>\n",
       "      <td>,</td>\n",
       "      <td>,</td>\n",
       "      <td>PUNCT</td>\n",
       "      <td>PUNCT</td>\n",
       "      <td>punct</td>\n",
       "      <td>,</td>\n",
       "      <td>()</td>\n",
       "      <td>0.0</td>\n",
       "      <td></td>\n",
       "    </tr>\n",
       "    <tr>\n",
       "      <th>2</th>\n",
       "      <td>nós</td>\n",
       "      <td>nó</td>\n",
       "      <td>PRON</td>\n",
       "      <td>PRON</td>\n",
       "      <td>nsubj</td>\n",
       "      <td>xxx</td>\n",
       "      <td>(Case=Nom, Number=Plur, Person=1, PronType=Prs)</td>\n",
       "      <td>0.0</td>\n",
       "      <td></td>\n",
       "    </tr>\n",
       "    <tr>\n",
       "      <th>3</th>\n",
       "      <td>vimos</td>\n",
       "      <td>vir</td>\n",
       "      <td>VERB</td>\n",
       "      <td>VERB</td>\n",
       "      <td>ROOT</td>\n",
       "      <td>xxxx</td>\n",
       "      <td>(Mood=Ind, Number=Plur, Person=1, Tense=Pres, ...</td>\n",
       "      <td>0.0</td>\n",
       "      <td></td>\n",
       "    </tr>\n",
       "    <tr>\n",
       "      <th>4</th>\n",
       "      <td>.</td>\n",
       "      <td>.</td>\n",
       "      <td>PUNCT</td>\n",
       "      <td>PUNCT</td>\n",
       "      <td>punct</td>\n",
       "      <td>.</td>\n",
       "      <td>()</td>\n",
       "      <td>0.0</td>\n",
       "      <td></td>\n",
       "    </tr>\n",
       "  </tbody>\n",
       "</table>\n",
       "</div>"
      ],
      "text/plain": [
       "    Text Lemma    POS    Tag     Dep Shape  \\\n",
       "0    Sim   Sim    ADV    ADV  advmod   Xxx   \n",
       "1      ,     ,  PUNCT  PUNCT   punct     ,   \n",
       "2    nós    nó   PRON   PRON   nsubj   xxx   \n",
       "3  vimos   vir   VERB   VERB    ROOT  xxxx   \n",
       "4      .     .  PUNCT  PUNCT   punct     .   \n",
       "\n",
       "                                               MORPH  Sentiment Entity Type  \n",
       "0                                                 ()        0.0              \n",
       "1                                                 ()        0.0              \n",
       "2    (Case=Nom, Number=Plur, Person=1, PronType=Prs)        0.0              \n",
       "3  (Mood=Ind, Number=Plur, Person=1, Tense=Pres, ...        0.0              \n",
       "4                                                 ()        0.0              "
      ]
     },
     "execution_count": 45,
     "metadata": {},
     "output_type": "execute_result"
    }
   ],
   "source": [
    "import spacy\n",
    "spacyModel = spacy.load(\"pt_core_news_md\")\n",
    "doc = spacyModel(\"Sim, nós vimos.\")\n",
    "\n",
    "df = pd.DataFrame(columns=[\"Text\", \"Lemma\", \"POS\", \"Tag\", \"Dep\", \"Shape\", \"MORPH\", \"Sentiment\", \"Entity Type\"])\n",
    "for token in doc:\n",
    "    df.loc[len(df.index)] = [token.text, token.lemma_, token.pos_, token.tag_, token.dep_, token.shape_, token.morph, token.sentiment, token.ent_type_]\n",
    "\n",
    "df"
   ]
  },
  {
   "cell_type": "code",
   "execution_count": 12,
   "metadata": {},
   "outputs": [
    {
     "data": {
      "text/plain": [
       "['Neg']"
      ]
     },
     "execution_count": 12,
     "metadata": {},
     "output_type": "execute_result"
    }
   ],
   "source": [
    "doc[1].morph.get(\"Polarity\")"
   ]
  },
  {
   "cell_type": "code",
   "execution_count": 37,
   "metadata": {},
   "outputs": [],
   "source": [
    "from datetime import datetime, timedelta\n",
    "import time\n",
    "now = datetime.now()\n",
    "x = timedelta(hours=2, minutes=30, seconds=15, milliseconds=16)"
   ]
  },
  {
   "cell_type": "code",
   "execution_count": 41,
   "metadata": {},
   "outputs": [
    {
     "name": "stdout",
     "output_type": "stream",
     "text": [
      "2.0h 30.0min (15.0, 0.01599999999962165)s\n"
     ]
    }
   ],
   "source": [
    "seconds = x.total_seconds()\n",
    "hours, seconds = divmod(seconds, 3600)\n",
    "minutes, seconds = divmod(seconds, 60)\n",
    "seconds, _ = divmod(seconds, 1)\n",
    "print(f\"{hours}h {minutes}min {seconds}s\")"
   ]
  },
  {
   "cell_type": "code",
   "execution_count": 27,
   "metadata": {},
   "outputs": [
    {
     "data": {
      "text/plain": [
       "(2, 3)"
      ]
     },
     "execution_count": 27,
     "metadata": {},
     "output_type": "execute_result"
    }
   ],
   "source": [
    "np.vstack((np.zeros(shape=(0, 3)), [1, 2,3], [2, 3, 4])).shape"
   ]
  },
  {
   "cell_type": "markdown",
   "metadata": {},
   "source": [
    "**POS-Tagging**\n",
    "- ADJ - Adjective\n",
    "- ADP - Adposition\n",
    "- ADV - Adverb\n",
    "- AUX - Auxiliary\n",
    "- CCONJ - Coordinating conjunction\n",
    "- DET - Determiner\n",
    "- INTJ - Interjection\n",
    "- NOUN - Noun\n",
    "- NUM - Numeral\n",
    "- Part - Particle\n",
    "- PRON - Pronoun\n",
    "- PROPN - Proper Noun\n",
    "- PUNCT - Punctuation\n",
    "- SCONJ - Subordinating Conjunction\n",
    "- SYM - Symbol\n",
    "- VERB - Verb\n",
    "- X - Other"
   ]
  },
  {
   "cell_type": "markdown",
   "metadata": {},
   "source": []
  }
 ],
 "metadata": {
  "interpreter": {
   "hash": "54c6638086fab4cdd44262421cfa14d1d96be689a356dd3ef0d28ae6e964d53f"
  },
  "kernelspec": {
   "display_name": "Python 3.8.9 64-bit",
   "language": "python",
   "name": "python3"
  },
  "language_info": {
   "codemirror_mode": {
    "name": "ipython",
    "version": 3
   },
   "file_extension": ".py",
   "mimetype": "text/x-python",
   "name": "python",
   "nbconvert_exporter": "python",
   "pygments_lexer": "ipython3",
   "version": "3.8.9"
  },
  "orig_nbformat": 4
 },
 "nbformat": 4,
 "nbformat_minor": 2
}
